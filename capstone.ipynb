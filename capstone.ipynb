{
    "cells": [
        {
            "cell_type": "markdown",
            "metadata": {
                "collapsed": true
            },
            "source": "# Coursera Capstone Project"
        },
        {
            "cell_type": "markdown",
            "metadata": {},
            "source": "## The Battle of Neighborhoods (Week 1)"
        },
        {
            "cell_type": "markdown",
            "metadata": {},
            "source": "### Coursera Capstone - REPORT CONTENT"
        },
        {
            "cell_type": "markdown",
            "metadata": {},
            "source": "1. Introduction Section : \u2043 Discussion of the business problem and the interested audience in this project.\n2. Data Section:\u2043 Description of the data that will be used to solve the problem and the sources.\n3. Methodology section \u2043 Discussion and description of exploratory data analysis carried out, any inferential statistical testing performed, and if any machine learnings were used establishing the strategy and purposes.\n4. Results section \u2043 Discussion of the results.\n5. Discussion section \u2043 Elaboration and discussion on any observations noted and any recommendations suggested based on the results.\n6. Conclusion section \u2043 Report Conclusion.\n"
        },
        {
            "cell_type": "markdown",
            "metadata": {},
            "source": "### 1. Introduction Section :"
        },
        {
            "cell_type": "markdown",
            "metadata": {},
            "source": "#### Discussion of the business problem and the audience who would be interested in this project.\n\n#### Description of the Problem and Background"
        },
        {
            "cell_type": "markdown",
            "metadata": {},
            "source": "#### Scenario:"
        },
        {
            "cell_type": "markdown",
            "metadata": {},
            "source": "My name Bharat wanwari, currently live in Delhi, India. My family runs a cake bakery shop in delhi. \n\nThe cakes are of different shapes, taste, customised and prices. Also the material used in preparation is obtained from various part of india and are mostly in bulk. "
        },
        {
            "cell_type": "markdown",
            "metadata": {},
            "source": "#### Business Problem:"
        },
        {
            "cell_type": "markdown",
            "metadata": {},
            "source": "My Family wants to grow the business in india and then in other countries. The challenge is to find the starting point for the growth. where the population in other states is more as compared with Delhi is high and preferences of people are technically suitable to sweet/bread/cream products.    "
        },
        {
            "cell_type": "markdown",
            "metadata": {},
            "source": "#### Interested Audience"
        },
        {
            "cell_type": "markdown",
            "metadata": {},
            "source": "I believe the audience will all those person those who wants to grow business in other regions and that Data analysis. "
        },
        {
            "cell_type": "markdown",
            "metadata": {},
            "source": "### 2. Data Section:"
        },
        {
            "cell_type": "markdown",
            "metadata": {},
            "source": "### Description of the data and its sources that will be used to solve the problem"
        },
        {
            "cell_type": "markdown",
            "metadata": {},
            "source": "#### Description of the Data:"
        },
        {
            "cell_type": "markdown",
            "metadata": {},
            "source": "The following data is required to answer the issues of the problem:\n    1. List of states of India with census. \n    2. List of states of India with temperature. \n    3. List of preferences of people of India state wise.     "
        },
        {
            "cell_type": "markdown",
            "metadata": {},
            "source": "#### How the data will be used to solve the problem"
        },
        {
            "cell_type": "markdown",
            "metadata": {},
            "source": "Use of Pandas to form dataframes\n\nUse Foursquare and geopy data to map top 10 venues"
        },
        {
            "cell_type": "code",
            "execution_count": 8,
            "metadata": {},
            "outputs": [
                {
                    "name": "stdout",
                    "output_type": "stream",
                    "text": "Libraries imported.\n"
                }
            ],
            "source": "import numpy as np \nimport pandas as pd \nfrom geopy.geocoders import Nominatim\n\nprint('Libraries imported.')"
        },
        {
            "cell_type": "code",
            "execution_count": 7,
            "metadata": {},
            "outputs": [
                {
                    "name": "stdout",
                    "output_type": "stream",
                    "text": "The geograpical coordinate of India home are 28.6517178, 77.2219388.\n"
                },
                {
                    "name": "stderr",
                    "output_type": "stream",
                    "text": "/opt/conda/envs/Python36/lib/python3.6/site-packages/ipykernel/__main__.py:3: DeprecationWarning: Using Nominatim with the default \"geopy/1.18.1\" `user_agent` is strongly discouraged, as it violates Nominatim's ToS https://operations.osmfoundation.org/policies/nominatim/ and may possibly cause 403 and 429 HTTP errors. Please specify a custom `user_agent` with `Nominatim(user_agent=\"my-application\")` or by overriding the default `user_agent`: `geopy.geocoders.options.default_user_agent = \"my-application\"`. In geopy 2.0 this will become an exception.\n  app.launch_new_instance()\n"
                }
            ],
            "source": "address_Delhi = 'Delhi, India'\ngeolocator = Nominatim()\nlocation = geolocator.geocode(address_Delhi)\nlatitude = location.latitude\nlongitude = location.longitude\nprint('The geograpical coordinate of India home are {}, {}.'.format(latitude, longitude))"
        },
        {
            "cell_type": "code",
            "execution_count": null,
            "metadata": {},
            "outputs": [],
            "source": "##Methodology"
        },
        {
            "cell_type": "code",
            "execution_count": null,
            "metadata": {},
            "outputs": [],
            "source": "##Results "
        },
        {
            "cell_type": "code",
            "execution_count": null,
            "metadata": {},
            "outputs": [],
            "source": "##Discussion "
        },
        {
            "cell_type": "code",
            "execution_count": null,
            "metadata": {},
            "outputs": [],
            "source": "##Conclusion"
        }
    ],
    "metadata": {
        "kernelspec": {
            "display_name": "Python 3.6",
            "language": "python",
            "name": "python3"
        },
        "language_info": {
            "codemirror_mode": {
                "name": "ipython",
                "version": 3
            },
            "file_extension": ".py",
            "mimetype": "text/x-python",
            "name": "python",
            "nbconvert_exporter": "python",
            "pygments_lexer": "ipython3",
            "version": "3.6.9"
        }
    },
    "nbformat": 4,
    "nbformat_minor": 1
}