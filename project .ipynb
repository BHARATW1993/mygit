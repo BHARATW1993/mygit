{
    "cells": [
        {
            "cell_type": "markdown",
            "metadata": {
                "collapsed": true
            },
            "source": "# Coursera Capstone Project"
        },
        {
            "cell_type": "markdown",
            "metadata": {},
            "source": "## The Battle of Neighborhoods (Week 1)"
        },
        {
            "cell_type": "markdown",
            "metadata": {},
            "source": "### Coursera Capstone - REPORT CONTENT"
        },
        {
            "cell_type": "markdown",
            "metadata": {},
            "source": "1. Introduction Section : \u2043 Discussion of the business problem and the interested audience in this project.\n2. Data Section:\u2043 Description of the data that will be used to solve the problem and the sources.\n3. Methodology section \u2043 Discussion and description of exploratory data analysis carried out, any inferential statistical testing performed, and if any machine learnings were used establishing the strategy and purposes.\n4. Results section \u2043 Discussion of the results.\n5. Discussion section \u2043 Elaboration and discussion on any observations noted and any recommendations suggested based on the results.\n6. Conclusion section \u2043 Report Conclusion.\n"
        },
        {
            "cell_type": "markdown",
            "metadata": {},
            "source": "### 1. Introduction Section :"
        },
        {
            "cell_type": "markdown",
            "metadata": {},
            "source": "#### Discussion of the business problem and the audience who would be interested in this project.\n\n#### Description of the Problem and Background"
        },
        {
            "cell_type": "markdown",
            "metadata": {},
            "source": "#### Scenario:"
        },
        {
            "cell_type": "markdown",
            "metadata": {},
            "source": "My name Bharat wanwari, currently live in Delhi, India. My family runs a cake bakery shop in delhi. \n\nThe cakes are of different shapes, taste, customised and prices. Also the material used in preparation is obtained from various part of india and are mostly in bulk. "
        },
        {
            "cell_type": "markdown",
            "metadata": {},
            "source": "#### Business Problem:"
        },
        {
            "cell_type": "markdown",
            "metadata": {},
            "source": "My Family wants to grow the business in india and then in other countries. The challenge is to find the starting point for the growth. where the population in other states is more as compared with Delhi is high and preferences of people are technically suitable to sweet/bread/cream products.    "
        },
        {
            "cell_type": "markdown",
            "metadata": {},
            "source": "#### Interested Audience"
        },
        {
            "cell_type": "markdown",
            "metadata": {},
            "source": "I believe the audience will all those person those who wants to grow business in other regions and that Data analysis. "
        },
        {
            "cell_type": "markdown",
            "metadata": {},
            "source": "### 2. Data Section:"
        },
        {
            "cell_type": "markdown",
            "metadata": {},
            "source": "### Description of the data and its sources that will be used to solve the problem"
        },
        {
            "cell_type": "markdown",
            "metadata": {},
            "source": "#### Description of the Data:"
        },
        {
            "cell_type": "markdown",
            "metadata": {},
            "source": "The following data is required to answer the issues of the problem:\n    1. List of states of India with census. \n    2. List of states of India with temperature. \n    3. List of preferences of people of India state wise.     "
        },
        {
            "cell_type": "markdown",
            "metadata": {},
            "source": "#### How the data will be used to solve the problem"
        },
        {
            "cell_type": "markdown",
            "metadata": {},
            "source": "Use of Pandas to form dataframes\n\nUse Foursquare and geopy data to map top 10 venues"
        },
        {
            "cell_type": "code",
            "execution_count": 2,
            "metadata": {},
            "outputs": [
                {
                    "name": "stdout",
                    "output_type": "stream",
                    "text": "Libraries imported.\n"
                }
            ],
            "source": "import numpy as np \nimport pandas as pd \nfrom geopy.geocoders import Nominatim\nimport requests\n\nprint('Libraries imported.')"
        },
        {
            "cell_type": "code",
            "execution_count": 3,
            "metadata": {},
            "outputs": [
                {
                    "name": "stdout",
                    "output_type": "stream",
                    "text": "The geograpical coordinate of India home are 28.6517178, 77.2219388.\n"
                },
                {
                    "name": "stderr",
                    "output_type": "stream",
                    "text": "/opt/conda/envs/Python36/lib/python3.6/site-packages/ipykernel/__main__.py:2: DeprecationWarning: Using Nominatim with the default \"geopy/1.18.1\" `user_agent` is strongly discouraged, as it violates Nominatim's ToS https://operations.osmfoundation.org/policies/nominatim/ and may possibly cause 403 and 429 HTTP errors. Please specify a custom `user_agent` with `Nominatim(user_agent=\"my-application\")` or by overriding the default `user_agent`: `geopy.geocoders.options.default_user_agent = \"my-application\"`. In geopy 2.0 this will become an exception.\n  from ipykernel import kernelapp as app\n"
                }
            ],
            "source": "address_Delhi = 'Delhi, India'\ngeolocator = Nominatim()\nlocation = geolocator.geocode(address_Delhi)\nlatitude = location.latitude\nlongitude = location.longitude\nprint('The geograpical coordinate of India home are {}, {}.'.format(latitude, longitude))"
        },
        {
            "cell_type": "markdown",
            "metadata": {},
            "source": "## Methodology"
        },
        {
            "cell_type": "code",
            "execution_count": 37,
            "metadata": {},
            "outputs": [
                {
                    "data": {
                        "text/html": "<div>\n<style scoped>\n    .dataframe tbody tr th:only-of-type {\n        vertical-align: middle;\n    }\n\n    .dataframe tbody tr th {\n        vertical-align: top;\n    }\n\n    .dataframe thead th {\n        text-align: right;\n    }\n</style>\n<table border=\"1\" class=\"dataframe\">\n  <thead>\n    <tr style=\"text-align: right;\">\n      <th></th>\n      <th>State</th>\n      <th>Population 2018</th>\n    </tr>\n  </thead>\n  <tbody>\n    <tr>\n      <th>0</th>\n      <td>Uttar Pradesh</td>\n      <td>228959599</td>\n    </tr>\n    <tr>\n      <th>1</th>\n      <td>Maharashtra</td>\n      <td>120837347</td>\n    </tr>\n    <tr>\n      <th>2</th>\n      <td>Bihar</td>\n      <td>119461013</td>\n    </tr>\n    <tr>\n      <th>3</th>\n      <td>West Bengal</td>\n      <td>97694960</td>\n    </tr>\n    <tr>\n      <th>4</th>\n      <td>Madhya Pradesh</td>\n      <td>82342793</td>\n    </tr>\n    <tr>\n      <th>5</th>\n      <td>Rajasthan</td>\n      <td>78230816</td>\n    </tr>\n    <tr>\n      <th>6</th>\n      <td>Tamil Nadu</td>\n      <td>76481545</td>\n    </tr>\n    <tr>\n      <th>7</th>\n      <td>Karnataka</td>\n      <td>66165886</td>\n    </tr>\n    <tr>\n      <th>8</th>\n      <td>Gujarat</td>\n      <td>63907200</td>\n    </tr>\n    <tr>\n      <th>9</th>\n      <td>Andhra Pradesh</td>\n      <td>52883163</td>\n    </tr>\n  </tbody>\n</table>\n</div>",
                        "text/plain": "           State   Population 2018\n0   Uttar Pradesh        228959599\n1     Maharashtra        120837347\n2           Bihar        119461013\n3     West Bengal         97694960\n4  Madhya Pradesh         82342793\n5       Rajasthan         78230816\n6      Tamil Nadu         76481545\n7       Karnataka         66165886\n8         Gujarat         63907200\n9  Andhra Pradesh         52883163"
                    },
                    "execution_count": 37,
                    "metadata": {},
                    "output_type": "execute_result"
                }
            ],
            "source": "import pandas as pd\nurl1 = 'https://raw.githubusercontent.com/BHARATW1993/mygit/master/data%20capstone%20project1.csv'\n\ndata1 = pd.read_csv(url1)\n\ndata1.head(10)\n\n"
        },
        {
            "cell_type": "code",
            "execution_count": 36,
            "metadata": {},
            "outputs": [
                {
                    "data": {
                        "text/html": "<div>\n<style scoped>\n    .dataframe tbody tr th:only-of-type {\n        vertical-align: middle;\n    }\n\n    .dataframe tbody tr th {\n        vertical-align: top;\n    }\n\n    .dataframe thead th {\n        text-align: right;\n    }\n</style>\n<table border=\"1\" class=\"dataframe\">\n  <thead>\n    <tr style=\"text-align: right;\">\n      <th></th>\n      <th>State</th>\n      <th>Place</th>\n      <th>High \u00b0C</th>\n      <th>Low \u00b0C</th>\n    </tr>\n  </thead>\n  <tbody>\n    <tr>\n      <th>0</th>\n      <td>Uttar Pradesh</td>\n      <td>Agra</td>\n      <td>33</td>\n      <td>19</td>\n    </tr>\n    <tr>\n      <th>1</th>\n      <td>Uttar Pradesh</td>\n      <td>Allahabad</td>\n      <td>32</td>\n      <td>19</td>\n    </tr>\n    <tr>\n      <th>2</th>\n      <td>Punjab</td>\n      <td>Amritsar</td>\n      <td>30</td>\n      <td>15</td>\n    </tr>\n    <tr>\n      <th>3</th>\n      <td>Madhya Pradesh</td>\n      <td>Bhopal</td>\n      <td>32</td>\n      <td>19</td>\n    </tr>\n    <tr>\n      <th>4</th>\n      <td>Chandigarh</td>\n      <td>Chandigarh</td>\n      <td>30</td>\n      <td>17</td>\n    </tr>\n    <tr>\n      <th>5</th>\n      <td>Uttarakhand</td>\n      <td>Dehradun</td>\n      <td>28</td>\n      <td>15</td>\n    </tr>\n    <tr>\n      <th>6</th>\n      <td>Madhya Pradesh</td>\n      <td>Indore</td>\n      <td>32</td>\n      <td>18</td>\n    </tr>\n    <tr>\n      <th>7</th>\n      <td>Uttar Pradesh</td>\n      <td>Lucknow</td>\n      <td>32</td>\n      <td>18</td>\n    </tr>\n    <tr>\n      <th>8</th>\n      <td>Punjab</td>\n      <td>Ludhiana</td>\n      <td>30</td>\n      <td>17</td>\n    </tr>\n    <tr>\n      <th>9</th>\n      <td>Uttarakhand</td>\n      <td>Mukteswar</td>\n      <td>19</td>\n      <td>8</td>\n    </tr>\n  </tbody>\n</table>\n</div>",
                        "text/plain": "            State       Place  High \u00b0C  Low \u00b0C\n0   Uttar Pradesh        Agra       33      19\n1   Uttar Pradesh   Allahabad       32      19\n2          Punjab    Amritsar       30      15\n3  Madhya Pradesh      Bhopal       32      19\n4      Chandigarh  Chandigarh       30      17\n5     Uttarakhand    Dehradun       28      15\n6  Madhya Pradesh      Indore       32      18\n7   Uttar Pradesh     Lucknow       32      18\n8          Punjab    Ludhiana       30      17\n9     Uttarakhand   Mukteswar       19       8"
                    },
                    "execution_count": 36,
                    "metadata": {},
                    "output_type": "execute_result"
                }
            ],
            "source": "url2 = 'https://raw.githubusercontent.com/BHARATW1993/mygit/master/data%20capstone%20project2.csv'\n\ndata2 = pd.read_csv(url2)\n\ndata2.head(10)"
        },
        {
            "cell_type": "code",
            "execution_count": 35,
            "metadata": {},
            "outputs": [
                {
                    "data": {
                        "text/html": "<div>\n<style scoped>\n    .dataframe tbody tr th:only-of-type {\n        vertical-align: middle;\n    }\n\n    .dataframe tbody tr th {\n        vertical-align: top;\n    }\n\n    .dataframe thead th {\n        text-align: right;\n    }\n</style>\n<table border=\"1\" class=\"dataframe\">\n  <thead>\n    <tr style=\"text-align: right;\">\n      <th></th>\n      <th>State</th>\n      <th>Preference</th>\n      <th>Bread Type</th>\n    </tr>\n  </thead>\n  <tbody>\n    <tr>\n      <th>0</th>\n      <td>Uttar Pradesh</td>\n      <td>Yes</td>\n      <td>Simple bread</td>\n    </tr>\n    <tr>\n      <th>1</th>\n      <td>Maharashtra</td>\n      <td>Yes</td>\n      <td>Bun bread</td>\n    </tr>\n    <tr>\n      <th>2</th>\n      <td>Bihar</td>\n      <td>Yes</td>\n      <td>Simple bread</td>\n    </tr>\n    <tr>\n      <th>3</th>\n      <td>West Bengal</td>\n      <td>Yes</td>\n      <td>Simple bread</td>\n    </tr>\n    <tr>\n      <th>4</th>\n      <td>Madhya Pradesh</td>\n      <td>Yes</td>\n      <td>Simple bread</td>\n    </tr>\n    <tr>\n      <th>5</th>\n      <td>Rajasthan</td>\n      <td>Yes</td>\n      <td>Simple bread</td>\n    </tr>\n    <tr>\n      <th>6</th>\n      <td>Tamil Nadu</td>\n      <td>Yes</td>\n      <td>Simple bread</td>\n    </tr>\n    <tr>\n      <th>7</th>\n      <td>Karnataka</td>\n      <td>Yes</td>\n      <td>Simple bread</td>\n    </tr>\n    <tr>\n      <th>8</th>\n      <td>Gujarat</td>\n      <td>Yes</td>\n      <td>Simple bread</td>\n    </tr>\n    <tr>\n      <th>9</th>\n      <td>Andhra Pradesh</td>\n      <td>Yes</td>\n      <td>Simple bread</td>\n    </tr>\n  </tbody>\n</table>\n</div>",
                        "text/plain": "           State  Preference     Bread Type\n0   Uttar Pradesh         Yes  Simple bread\n1     Maharashtra         Yes     Bun bread\n2           Bihar         Yes  Simple bread\n3     West Bengal         Yes  Simple bread\n4  Madhya Pradesh         Yes  Simple bread\n5       Rajasthan         Yes  Simple bread\n6      Tamil Nadu         Yes  Simple bread\n7       Karnataka         Yes  Simple bread\n8         Gujarat         Yes  Simple bread\n9  Andhra Pradesh         Yes  Simple bread"
                    },
                    "execution_count": 35,
                    "metadata": {},
                    "output_type": "execute_result"
                }
            ],
            "source": "url3 = 'https://raw.githubusercontent.com/BHARATW1993/mygit/master/data%20capstone%20project3.csv'\n\ndata3 = pd.read_csv(url3)\n\ndata3.head(10)"
        },
        {
            "cell_type": "markdown",
            "metadata": {},
            "source": "## we have to find the highest population with temperature between 20-30 having bread preferences. "
        },
        {
            "cell_type": "code",
            "execution_count": 32,
            "metadata": {},
            "outputs": [
                {
                    "data": {
                        "text/html": "<div>\n<style scoped>\n    .dataframe tbody tr th:only-of-type {\n        vertical-align: middle;\n    }\n\n    .dataframe tbody tr th {\n        vertical-align: top;\n    }\n\n    .dataframe thead th {\n        text-align: right;\n    }\n</style>\n<table border=\"1\" class=\"dataframe\">\n  <thead>\n    <tr style=\"text-align: right;\">\n      <th></th>\n      <th>State</th>\n      <th>Population 2018</th>\n    </tr>\n  </thead>\n  <tbody>\n    <tr>\n      <th>0</th>\n      <td>Uttar Pradesh</td>\n      <td>228959599</td>\n    </tr>\n    <tr>\n      <th>1</th>\n      <td>Maharashtra</td>\n      <td>120837347</td>\n    </tr>\n    <tr>\n      <th>2</th>\n      <td>Bihar</td>\n      <td>119461013</td>\n    </tr>\n    <tr>\n      <th>3</th>\n      <td>West Bengal</td>\n      <td>97694960</td>\n    </tr>\n    <tr>\n      <th>4</th>\n      <td>Madhya Pradesh</td>\n      <td>82342793</td>\n    </tr>\n    <tr>\n      <th>5</th>\n      <td>Rajasthan</td>\n      <td>78230816</td>\n    </tr>\n    <tr>\n      <th>6</th>\n      <td>Tamil Nadu</td>\n      <td>76481545</td>\n    </tr>\n    <tr>\n      <th>7</th>\n      <td>Karnataka</td>\n      <td>66165886</td>\n    </tr>\n    <tr>\n      <th>8</th>\n      <td>Gujarat</td>\n      <td>63907200</td>\n    </tr>\n    <tr>\n      <th>9</th>\n      <td>Andhra Pradesh</td>\n      <td>52883163</td>\n    </tr>\n  </tbody>\n</table>\n</div>",
                        "text/plain": "           State   Population 2018\n0   Uttar Pradesh        228959599\n1     Maharashtra        120837347\n2           Bihar        119461013\n3     West Bengal         97694960\n4  Madhya Pradesh         82342793\n5       Rajasthan         78230816\n6      Tamil Nadu         76481545\n7       Karnataka         66165886\n8         Gujarat         63907200\n9  Andhra Pradesh         52883163"
                    },
                    "execution_count": 32,
                    "metadata": {},
                    "output_type": "execute_result"
                }
            ],
            "source": "data1.nlargest(10, 'Population 2018')"
        },
        {
            "cell_type": "code",
            "execution_count": 38,
            "metadata": {},
            "outputs": [
                {
                    "data": {
                        "text/html": "<div>\n<style scoped>\n    .dataframe tbody tr th:only-of-type {\n        vertical-align: middle;\n    }\n\n    .dataframe tbody tr th {\n        vertical-align: top;\n    }\n\n    .dataframe thead th {\n        text-align: right;\n    }\n</style>\n<table border=\"1\" class=\"dataframe\">\n  <thead>\n    <tr style=\"text-align: right;\">\n      <th></th>\n      <th>State</th>\n      <th>Place</th>\n      <th>High \u00b0C</th>\n      <th>Low \u00b0C</th>\n    </tr>\n  </thead>\n  <tbody>\n    <tr>\n      <th>43</th>\n      <td>Tamil Nadu</td>\n      <td>Madurai</td>\n      <td>34</td>\n      <td>24</td>\n    </tr>\n    <tr>\n      <th>0</th>\n      <td>Uttar Pradesh</td>\n      <td>Agra</td>\n      <td>33</td>\n      <td>19</td>\n    </tr>\n    <tr>\n      <th>17</th>\n      <td>Orissa (Odisha)</td>\n      <td>Bhuba\u00adneshwar</td>\n      <td>33</td>\n      <td>22</td>\n    </tr>\n    <tr>\n      <th>24</th>\n      <td>Chhattisgarh</td>\n      <td>Raipur</td>\n      <td>33</td>\n      <td>21</td>\n    </tr>\n    <tr>\n      <th>28</th>\n      <td>Tamil Nadu</td>\n      <td>Chennai</td>\n      <td>33</td>\n      <td>24</td>\n    </tr>\n    <tr>\n      <th>35</th>\n      <td>Pondicherry</td>\n      <td>Puducherry</td>\n      <td>33</td>\n      <td>24</td>\n    </tr>\n    <tr>\n      <th>38</th>\n      <td>Andhra Pradesh</td>\n      <td>Vishak\u00adhapatnam</td>\n      <td>33</td>\n      <td>24</td>\n    </tr>\n    <tr>\n      <th>40</th>\n      <td>Tamil Nadu</td>\n      <td>Chennai</td>\n      <td>33</td>\n      <td>24</td>\n    </tr>\n    <tr>\n      <th>48</th>\n      <td>Pondicherry</td>\n      <td>Puducherry</td>\n      <td>33</td>\n      <td>24</td>\n    </tr>\n    <tr>\n      <th>51</th>\n      <td>Andhra Pradesh</td>\n      <td>Vishak\u00adhapatnam</td>\n      <td>33</td>\n      <td>24</td>\n    </tr>\n  </tbody>\n</table>\n</div>",
                        "text/plain": "              State            Place  High \u00b0C  Low \u00b0C\n43       Tamil Nadu          Madurai       34      24\n0     Uttar Pradesh             Agra       33      19\n17  Orissa (Odisha)    Bhuba\u00adneshwar       33      22\n24     Chhattisgarh           Raipur       33      21\n28       Tamil Nadu          Chennai       33      24\n35      Pondicherry       Puducherry       33      24\n38   Andhra Pradesh  Vishak\u00adhapatnam       33      24\n40       Tamil Nadu          Chennai       33      24\n48      Pondicherry       Puducherry       33      24\n51   Andhra Pradesh  Vishak\u00adhapatnam       33      24"
                    },
                    "execution_count": 38,
                    "metadata": {},
                    "output_type": "execute_result"
                }
            ],
            "source": "data2.nlargest(10, 'High \u00b0C')"
        },
        {
            "cell_type": "code",
            "execution_count": 33,
            "metadata": {},
            "outputs": [
                {
                    "data": {
                        "text/html": "<div>\n<style scoped>\n    .dataframe tbody tr th:only-of-type {\n        vertical-align: middle;\n    }\n\n    .dataframe tbody tr th {\n        vertical-align: top;\n    }\n\n    .dataframe thead th {\n        text-align: right;\n    }\n</style>\n<table border=\"1\" class=\"dataframe\">\n  <thead>\n    <tr style=\"text-align: right;\">\n      <th></th>\n      <th>State</th>\n      <th>Place</th>\n      <th>High \u00b0C</th>\n      <th>Low \u00b0C</th>\n    </tr>\n  </thead>\n  <tbody>\n    <tr>\n      <th>12</th>\n      <td>Himachal Pradesh</td>\n      <td>Shimla</td>\n      <td>17</td>\n      <td>10</td>\n    </tr>\n    <tr>\n      <th>9</th>\n      <td>Uttarakhand</td>\n      <td>Mukteswar</td>\n      <td>19</td>\n      <td>8</td>\n    </tr>\n    <tr>\n      <th>13</th>\n      <td>Jammu and Kashmir</td>\n      <td>Srinagar</td>\n      <td>20</td>\n      <td>7</td>\n    </tr>\n    <tr>\n      <th>18</th>\n      <td>Meghalaya</td>\n      <td>Cherrapunji</td>\n      <td>21</td>\n      <td>14</td>\n    </tr>\n    <tr>\n      <th>26</th>\n      <td>Meghalaya</td>\n      <td>Shillong</td>\n      <td>21</td>\n      <td>12</td>\n    </tr>\n    <tr>\n      <th>22</th>\n      <td>Nagaland</td>\n      <td>Kohima</td>\n      <td>22</td>\n      <td>15</td>\n    </tr>\n    <tr>\n      <th>38</th>\n      <td>Andhra Pradesh</td>\n      <td>Vijayawada</td>\n      <td>23</td>\n      <td>23</td>\n    </tr>\n    <tr>\n      <th>51</th>\n      <td>Andhra Pradesh</td>\n      <td>Vijayawada</td>\n      <td>23</td>\n      <td>23</td>\n    </tr>\n    <tr>\n      <th>5</th>\n      <td>Uttarakhand</td>\n      <td>Dehradun</td>\n      <td>28</td>\n      <td>15</td>\n    </tr>\n    <tr>\n      <th>19</th>\n      <td>Assam</td>\n      <td>Dibrugarh</td>\n      <td>28</td>\n      <td>18</td>\n    </tr>\n  </tbody>\n</table>\n</div>",
                        "text/plain": "                State        Place  High \u00b0C  Low \u00b0C\n12   Himachal Pradesh       Shimla       17      10\n9         Uttarakhand    Mukteswar       19       8\n13  Jammu and Kashmir     Srinagar       20       7\n18          Meghalaya  Cherrapunji       21      14\n26          Meghalaya     Shillong       21      12\n22           Nagaland       Kohima       22      15\n38     Andhra Pradesh   Vijayawada       23      23\n51     Andhra Pradesh   Vijayawada       23      23\n5         Uttarakhand     Dehradun       28      15\n19              Assam    Dibrugarh       28      18"
                    },
                    "execution_count": 33,
                    "metadata": {},
                    "output_type": "execute_result"
                }
            ],
            "source": "data2.nsmallest(10, 'High \u00b0C')"
        },
        {
            "cell_type": "code",
            "execution_count": 39,
            "metadata": {},
            "outputs": [
                {
                    "name": "stderr",
                    "output_type": "stream",
                    "text": "/opt/conda/envs/Python36/lib/python3.6/site-packages/ipykernel/__main__.py:2: DeprecationWarning: Using Nominatim with the default \"geopy/1.18.1\" `user_agent` is strongly discouraged, as it violates Nominatim's ToS https://operations.osmfoundation.org/policies/nominatim/ and may possibly cause 403 and 429 HTTP errors. Please specify a custom `user_agent` with `Nominatim(user_agent=\"my-application\")` or by overriding the default `user_agent`: `geopy.geocoders.options.default_user_agent = \"my-application\"`. In geopy 2.0 this will become an exception.\n  from ipykernel import kernelapp as app\n"
                },
                {
                    "name": "stdout",
                    "output_type": "stream",
                    "text": "The geograpical coordinate of India home are 27.1303344, 80.859666.\n"
                }
            ],
            "source": "address_Delhi = 'Uttar Pradesh, India'\ngeolocator = Nominatim()\nlocation = geolocator.geocode(address_Delhi)\nlatitude = location.latitude\nlongitude = location.longitude\nprint('The geograpical coordinate of India Uttar Pradesh are {}, {}.'.format(latitude, longitude))"
        },
        {
            "cell_type": "code",
            "execution_count": 40,
            "metadata": {},
            "outputs": [
                {
                    "name": "stdout",
                    "output_type": "stream",
                    "text": "The geograpical coordinate of India Tamil Nadu are 10.9094334, 78.3665347.\n"
                },
                {
                    "name": "stderr",
                    "output_type": "stream",
                    "text": "/opt/conda/envs/Python36/lib/python3.6/site-packages/ipykernel/__main__.py:2: DeprecationWarning: Using Nominatim with the default \"geopy/1.18.1\" `user_agent` is strongly discouraged, as it violates Nominatim's ToS https://operations.osmfoundation.org/policies/nominatim/ and may possibly cause 403 and 429 HTTP errors. Please specify a custom `user_agent` with `Nominatim(user_agent=\"my-application\")` or by overriding the default `user_agent`: `geopy.geocoders.options.default_user_agent = \"my-application\"`. In geopy 2.0 this will become an exception.\n  from ipykernel import kernelapp as app\n"
                }
            ],
            "source": "address_Delhi = 'Tamilnadu, India'\ngeolocator = Nominatim()\nlocation = geolocator.geocode(address_Delhi)\nlatitude = location.latitude\nlongitude = location.longitude\nprint('The geograpical coordinate of India Tamil Nadu are {}, {}.'.format(latitude, longitude))"
        },
        {
            "cell_type": "markdown",
            "metadata": {},
            "source": "## Results "
        },
        {
            "cell_type": "markdown",
            "metadata": {},
            "source": "### Found that Tamilnadu and Uttarpradesh have identical environment have highest in ten population size, with bread preference 'yes'."
        },
        {
            "cell_type": "markdown",
            "metadata": {},
            "source": "## Discussion "
        },
        {
            "cell_type": "markdown",
            "metadata": {},
            "source": "### The data is taken from Online sources just to represent the data science skills and cannot be used for any other useful purpose.  "
        },
        {
            "cell_type": "markdown",
            "metadata": {},
            "source": "## Conclusion"
        },
        {
            "cell_type": "markdown",
            "metadata": {},
            "source": "### Choosing TamilNadu and Uttarpradesh as to open new shop out there. "
        },
        {
            "cell_type": "code",
            "execution_count": null,
            "metadata": {},
            "outputs": [],
            "source": ""
        }
    ],
    "metadata": {
        "kernelspec": {
            "display_name": "Python 3.6",
            "language": "python",
            "name": "python3"
        },
        "language_info": {
            "codemirror_mode": {
                "name": "ipython",
                "version": 3
            },
            "file_extension": ".py",
            "mimetype": "text/x-python",
            "name": "python",
            "nbconvert_exporter": "python",
            "pygments_lexer": "ipython3",
            "version": "3.6.9"
        }
    },
    "nbformat": 4,
    "nbformat_minor": 1
}